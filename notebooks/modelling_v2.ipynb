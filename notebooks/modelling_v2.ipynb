{
 "cells": [
  {
   "cell_type": "markdown",
   "metadata": {},
   "source": [
    "# Modelling Version 2"
   ]
  },
  {
   "cell_type": "markdown",
   "metadata": {},
   "source": [
    "### Imports"
   ]
  },
  {
   "cell_type": "code",
   "execution_count": 34,
   "metadata": {},
   "outputs": [],
   "source": [
    "# Standard library imports\n",
    "from pathlib import Path\n",
    "import os\n",
    "import string\n",
    "from itertools import combinations\n",
    "\n",
    "# Third party imports\n",
    "import pandas as pd\n",
    "import numpy as np\n",
    "\n",
    "import matplotlib.pyplot as plt\n",
    "import seaborn as sns\n",
    "\n",
    "from scipy.stats import pointbiserialr, pearsonr\n",
    "\n",
    "from sklearn.preprocessing import StandardScaler\n",
    "from sklearn.model_selection import train_test_split, cross_val_score, GridSearchCV, RandomizedSearchCV\n",
    "from sklearn.linear_model import LinearRegression, Ridge, Lasso, LogisticRegression\n",
    "from sklearn.ensemble import RandomForestRegressor, RandomForestClassifier\n",
    "from sklearn.svm import SVR, SVC\n",
    "from sklearn.neighbors import KNeighborsClassifier\n",
    "from sklearn.metrics import (\n",
    "    mean_squared_error,\n",
    "    mean_absolute_error,\n",
    "    accuracy_score,\n",
    "    confusion_matrix,\n",
    "    classification_report,\n",
    "    make_scorer,\n",
    "    fbeta_score\n",
    ")\n",
    "from xgboost import XGBClassifier"
   ]
  },
  {
   "cell_type": "code",
   "execution_count": 2,
   "metadata": {},
   "outputs": [],
   "source": [
    "%matplotlib inline\n",
    "sns.set_style('whitegrid')\n",
    "sns.set(font_scale=1.2)"
   ]
  },
  {
   "cell_type": "markdown",
   "metadata": {},
   "source": [
    "### Read in data"
   ]
  },
  {
   "cell_type": "code",
   "execution_count": 3,
   "metadata": {},
   "outputs": [],
   "source": [
    "data_path = Path('../data')\n",
    "processed_prem_path = os.path.join(data_path, 'processed', 'processed_prem_fixtures_v2.csv')\n",
    "fixtures = pd.read_csv(processed_prem_path)"
   ]
  },
  {
   "cell_type": "code",
   "execution_count": 4,
   "metadata": {},
   "outputs": [
    {
     "name": "stdout",
     "output_type": "stream",
     "text": [
      "<class 'pandas.core.frame.DataFrame'>\n",
      "RangeIndex: 7396 entries, 0 to 7395\n",
      "Data columns (total 33 columns):\n",
      " #   Column                              Non-Null Count  Dtype  \n",
      "---  ------                              --------------  -----  \n",
      " 0   match_id                            7396 non-null   int64  \n",
      " 1   date                                7396 non-null   object \n",
      " 2   season                              7396 non-null   int64  \n",
      " 3   team_id                             7396 non-null   int64  \n",
      " 4   team_name                           7396 non-null   object \n",
      " 5   opposition_id                       7396 non-null   int64  \n",
      " 6   opposition_name                     7396 non-null   object \n",
      " 7   scored                              7396 non-null   float64\n",
      " 8   conceded                            7396 non-null   float64\n",
      " 9   relative_score                      7396 non-null   float64\n",
      " 10  league_position                     7396 non-null   int64  \n",
      " 11  opposition_league_position          7396 non-null   int64  \n",
      " 12  HA_average_scored                   6996 non-null   float64\n",
      " 13  opposition_HA_average_scored        6996 non-null   float64\n",
      " 14  HA_average_conceded                 6996 non-null   float64\n",
      " 15  opposition_HA_average_conceded      6996 non-null   float64\n",
      " 16  HA_average_points                   6996 non-null   float64\n",
      " 17  opposition_HA_average_points        6996 non-null   float64\n",
      " 18  HA_form                             6996 non-null   float64\n",
      " 19  opposition_HA_form                  6996 non-null   float64\n",
      " 20  season_average_scored               7196 non-null   float64\n",
      " 21  opposition_season_average_scored    7196 non-null   float64\n",
      " 22  season_average_conceded             7196 non-null   float64\n",
      " 23  opposition_season_average_conceded  7196 non-null   float64\n",
      " 24  season_average_points               7196 non-null   float64\n",
      " 25  opposition_season_average_points    7196 non-null   float64\n",
      " 26  season_form                         7196 non-null   float64\n",
      " 27  opposition_season_form              7196 non-null   float64\n",
      " 28  games_played                        7396 non-null   float64\n",
      " 29  home                                7396 non-null   int64  \n",
      " 30  average_hth_points                  6360 non-null   float64\n",
      " 31  average_hth_relative_score          6360 non-null   float64\n",
      " 32  win                                 7396 non-null   float64\n",
      "dtypes: float64(23), int64(7), object(3)\n",
      "memory usage: 1.9+ MB\n"
     ]
    }
   ],
   "source": [
    "fixtures.info()"
   ]
  },
  {
   "cell_type": "markdown",
   "metadata": {},
   "source": [
    "## Create features\n",
    "\n",
    "First, let's remove any fixtures where there is no head to head data available (as the teams haven't played before in the data I have collected)."
   ]
  },
  {
   "cell_type": "code",
   "execution_count": 5,
   "metadata": {},
   "outputs": [],
   "source": [
    "fixtures = fixtures[fixtures['average_hth_points'].notnull()]"
   ]
  },
  {
   "cell_type": "markdown",
   "metadata": {},
   "source": [
    "As many of the feautures are still reliant on gathering information from the season the fixture is played in I will remove the first 4 fixtures so the model has access to more accurate information."
   ]
  },
  {
   "cell_type": "code",
   "execution_count": 6,
   "metadata": {},
   "outputs": [
    {
     "name": "stdout",
     "output_type": "stream",
     "text": [
      "<class 'pandas.core.frame.DataFrame'>\n",
      "Int64Index: 5778 entries, 40 to 7395\n",
      "Data columns (total 33 columns):\n",
      " #   Column                              Non-Null Count  Dtype  \n",
      "---  ------                              --------------  -----  \n",
      " 0   match_id                            5778 non-null   int64  \n",
      " 1   date                                5778 non-null   object \n",
      " 2   season                              5778 non-null   int64  \n",
      " 3   team_id                             5778 non-null   int64  \n",
      " 4   team_name                           5778 non-null   object \n",
      " 5   opposition_id                       5778 non-null   int64  \n",
      " 6   opposition_name                     5778 non-null   object \n",
      " 7   scored                              5778 non-null   float64\n",
      " 8   conceded                            5778 non-null   float64\n",
      " 9   relative_score                      5778 non-null   float64\n",
      " 10  league_position                     5778 non-null   int64  \n",
      " 11  opposition_league_position          5778 non-null   int64  \n",
      " 12  HA_average_scored                   5778 non-null   float64\n",
      " 13  opposition_HA_average_scored        5778 non-null   float64\n",
      " 14  HA_average_conceded                 5778 non-null   float64\n",
      " 15  opposition_HA_average_conceded      5778 non-null   float64\n",
      " 16  HA_average_points                   5778 non-null   float64\n",
      " 17  opposition_HA_average_points        5778 non-null   float64\n",
      " 18  HA_form                             5778 non-null   float64\n",
      " 19  opposition_HA_form                  5778 non-null   float64\n",
      " 20  season_average_scored               5778 non-null   float64\n",
      " 21  opposition_season_average_scored    5778 non-null   float64\n",
      " 22  season_average_conceded             5778 non-null   float64\n",
      " 23  opposition_season_average_conceded  5778 non-null   float64\n",
      " 24  season_average_points               5778 non-null   float64\n",
      " 25  opposition_season_average_points    5778 non-null   float64\n",
      " 26  season_form                         5778 non-null   float64\n",
      " 27  opposition_season_form              5778 non-null   float64\n",
      " 28  games_played                        5778 non-null   float64\n",
      " 29  home                                5778 non-null   int64  \n",
      " 30  average_hth_points                  5778 non-null   float64\n",
      " 31  average_hth_relative_score          5778 non-null   float64\n",
      " 32  win                                 5778 non-null   float64\n",
      "dtypes: float64(23), int64(7), object(3)\n",
      "memory usage: 1.5+ MB\n"
     ]
    }
   ],
   "source": [
    "# Get rid of early season games\n",
    "fixtures = fixtures[fixtures['games_played'] > 3]\n",
    "fixtures.info()"
   ]
  },
  {
   "cell_type": "markdown",
   "metadata": {},
   "source": [
    "Again, I want to calculate relative statistics between some of the features to find the difference between the teams."
   ]
  },
  {
   "cell_type": "code",
   "execution_count": 7,
   "metadata": {},
   "outputs": [],
   "source": [
    "def get_relative_statistic(fixtures, feature):\n",
    "    \"\"\"\n",
    "    Create relative statistics columns from features about each team in\n",
    "    fixture. Params:\n",
    "    - fixtures: pd.DataFrame\n",
    "    - feature: Statistic to calculate relative statistics from.\n",
    "    \"\"\"\n",
    "    # Get team and opposition stats\n",
    "    columns = {'team': feature, 'opposition': '_'.join(['opposition', feature])}\n",
    "    \n",
    "    # Reset index to avoid concat issue\n",
    "    new_fixtures = fixtures.reset_index(drop=True)\n",
    "    \n",
    "    # Calculate relative stat\n",
    "    relative_stat = fixtures[columns['team']] - fixtures[columns['opposition']]\n",
    "    relative_stat = relative_stat.rename('_'.join(['relative', feature]))\n",
    "\n",
    "    return pd.concat([fixtures, relative_stat], axis=1)"
   ]
  },
  {
   "cell_type": "code",
   "execution_count": 8,
   "metadata": {},
   "outputs": [],
   "source": [
    "statistics = [\n",
    "    '_'.join([prefix, stat])\n",
    "    for prefix in ('HA', 'season')\n",
    "    for stat in ('average_scored', 'average_points', 'form', 'average_conceded')\n",
    "]\n",
    "statistics.append('league_position')\n",
    "for stat in statistics:\n",
    "    fixtures = get_relative_statistic(fixtures, stat)"
   ]
  },
  {
   "cell_type": "markdown",
   "metadata": {},
   "source": [
    "I will create interaction terms to measure the interaction for different variables between the two teams. To do this I will create a function that will return the interaction terms between team and opposition and then calculate the relative stats of these.\n",
    "\n",
    "It doesn't make sense to calculate interaction terms from variables that can both be negative, as any occurances when both variables are negative multiplied together will make a positive. This will lose the meaning of the negative values indicating a worse result, so I won't calculate the interaction variables between statistics that can both take negative values."
   ]
  },
  {
   "cell_type": "code",
   "execution_count": 9,
   "metadata": {},
   "outputs": [],
   "source": [
    "def get_interaction_terms(fixtures, features):\n",
    "    \"\"\"\n",
    "    Returns interaction terms between team and opposition statistics and returns the\n",
    "    relative of the interaction terms. Given the features inputed, creates interaction\n",
    "    terms between team and opposition features. If both features contain negative\n",
    "    results then these interaction terms are skipped.\n",
    "    \"\"\"\n",
    "    # Label each feature alphabetically\n",
    "    labeled_features = {string.ascii_uppercase[i]: feature for i, feature in enumerate(features)}\n",
    "    \n",
    "    interaction_terms = pd.DataFrame()\n",
    "    \n",
    "    # Loop through combinations of features\n",
    "    for a, b in combinations(labeled_features.keys(), 2):\n",
    "        \n",
    "        # Some stats are the same for team and opposition, this determines the columns\n",
    "        # needed for team and opposition\n",
    "        feat_a = [labeled_features[a], '_'.join(['opposition', labeled_features[a]])]\n",
    "        feat_a = feat_a if feat_a[1] in fixtures.columns else [feat_a[0]]*2\n",
    "        \n",
    "        feat_b = [labeled_features[b], '_'.join(['opposition', labeled_features[b]])]\n",
    "        feat_b = feat_b if feat_b[1] in fixtures.columns else [feat_b[0]]*2\n",
    "        \n",
    "        # Don't calculate interaction varibales from two variables with negatives \n",
    "        if any(fixtures[feat_a[0]] < 0) and any(fixtures[feat_b[0]] < 0):\n",
    "            continue\n",
    "        \n",
    "        # feat1 * opposition feat2\n",
    "        stat1 = fixtures[feat_a[0]] * fixtures[feat_b[1]]\n",
    "        \n",
    "        # feat2 * opposition feat1\n",
    "        stat2 = fixtures[feat_a[1]] * fixtures[feat_b[0]]\n",
    "        \n",
    "        # get relative of iteraction terms if stats calculated are different\n",
    "        stat = stat1 if all(stat1 == stat2) else stat1 - stat2\n",
    "        stat = stat.rename(f'{a}{b}')\n",
    "        \n",
    "        # Concat to all interaction terms\n",
    "        interaction_terms = pd.concat([interaction_terms, stat], axis=1)\n",
    "    \n",
    "    # Reset index to avoid concat issues\n",
    "    interaction_terms = interaction_terms.reset_index(drop=True)\n",
    "    \n",
    "    return pd.concat([fixtures.reset_index(drop=True), interaction_terms], axis=1)"
   ]
  },
  {
   "cell_type": "code",
   "execution_count": 10,
   "metadata": {},
   "outputs": [],
   "source": [
    "interaction_features = [\n",
    "    'league_position', 'HA_average_scored', 'HA_average_conceded', 'HA_average_points',\n",
    "    'season_average_scored', 'season_average_conceded', 'season_average_points',\n",
    "    'average_hth_points', 'average_hth_relative_score',\n",
    "    'HA_form', 'season_form',\n",
    "]\n",
    "fixtures = get_interaction_terms(fixtures, interaction_features)"
   ]
  },
  {
   "cell_type": "code",
   "execution_count": 11,
   "metadata": {},
   "outputs": [],
   "source": [
    "non_informative_cols = [\n",
    "    'match_id',\n",
    "    'date',\n",
    "    'season',\n",
    "    'team_id',\n",
    "    'team_name',\n",
    "    'opposition_id',\n",
    "    'opposition_name',\n",
    "    'scored',\n",
    "    'conceded',\n",
    "    'win'\n",
    "]\n",
    "fixture_features = ['average_hth_points', 'average_hth_relative_score']\n",
    "team_features = [feat for feat in interaction_features if feat not in fixture_features]\n",
    "team_features += ['_'.join(['opposition', feat]) for feat in team_features]"
   ]
  },
  {
   "cell_type": "markdown",
   "metadata": {},
   "source": [
    "Now we can look at the correlation with relative score with our new interaction variables."
   ]
  },
  {
   "cell_type": "code",
   "execution_count": 12,
   "metadata": {
    "scrolled": false
   },
   "outputs": [
    {
     "data": {
      "text/plain": [
       "AB                                  0.414225\n",
       "CE                                  0.409555\n",
       "BF                                  0.407405\n",
       "EF                                  0.404316\n",
       "AD                                  0.403773\n",
       "AE                                  0.403741\n",
       "relative_season_average_scored      0.400154\n",
       "relative_season_average_points      0.399421\n",
       "AG                                  0.392420\n",
       "BC                                  0.391758\n",
       "relative_HA_average_points          0.386124\n",
       "CG                                  0.385335\n",
       "relative_HA_average_scored          0.385074\n",
       "DF                                  0.382687\n",
       "relative_league_position            0.380187\n",
       "EH                                  0.375639\n",
       "GH                                  0.375033\n",
       "FG                                  0.374237\n",
       "DH                                  0.365644\n",
       "BH                                  0.363635\n",
       "AH                                  0.361073\n",
       "CD                                  0.355976\n",
       "AF                                  0.303988\n",
       "relative_season_average_conceded    0.299856\n",
       "HI                                  0.285919\n",
       "FH                                  0.284503\n",
       "relative_HA_average_conceded        0.283081\n",
       "relative_HA_form                    0.274045\n",
       "CH                                  0.269648\n",
       "relative_season_form                0.266496\n",
       "CJ                                  0.263485\n",
       "HJ                                  0.261329\n",
       "GJ                                  0.261274\n",
       "FJ                                  0.258840\n",
       "HK                                  0.257138\n",
       "FK                                  0.255490\n",
       "GK                                  0.253635\n",
       "EJ                                  0.253035\n",
       "DJ                                  0.251384\n",
       "AJ                                  0.251274\n",
       "CK                                  0.250794\n",
       "AK                                  0.247954\n",
       "BJ                                  0.247404\n",
       "EK                                  0.244411\n",
       "DK                                  0.244138\n",
       "BK                                  0.242215\n",
       "home                                0.201798\n",
       "Name: relative_score, dtype: float64"
      ]
     },
     "execution_count": 12,
     "metadata": {},
     "output_type": "execute_result"
    }
   ],
   "source": [
    "cols_to_drop = non_informative_cols + team_features + fixture_features\n",
    "relative_score_corr = fixtures.drop(cols_to_drop, axis=1).corr()['relative_score'].abs()\n",
    "relative_score_corr[relative_score_corr > 0.2].sort_values(ascending=False)[1:]"
   ]
  },
  {
   "cell_type": "markdown",
   "metadata": {},
   "source": [
    "It looks like some of the interaction variables will be useful predictors, although it is likely some of the variables will be highly correlated. Before I do any modelling I will remove highly correlated variables."
   ]
  },
  {
   "cell_type": "markdown",
   "metadata": {},
   "source": [
    "## EDA\n",
    "\n",
    "Now the target is the 'win' column, so first I will look at the variance of the target."
   ]
  },
  {
   "cell_type": "code",
   "execution_count": 13,
   "metadata": {},
   "outputs": [
    {
     "data": {
      "image/png": "[encoded data removed]",
      "text/plain": [
       "<Figure size 864x432 with 1 Axes>"
      ]
     },
     "metadata": {},
     "output_type": "display_data"
    }
   ],
   "source": [
    "plt.figure(figsize=(12,6))\n",
    "ax = sns.countplot(fixtures['win'])\n",
    "no_fixtures = len(fixtures)\n",
    "plt.title('Target Variation')\n",
    "\n",
    "for p in ax.patches:\n",
    "    x = p.get_bbox().get_points()[:,0]\n",
    "    y = p.get_height()\n",
    "    ax.annotate(f'{100*y/no_fixtures:.2f}%', (x.mean(), y), ha='center', va='bottom')"
   ]
  },
  {
   "cell_type": "markdown",
   "metadata": {},
   "source": [
    "As each fixture is repeated twice, the difference can be accounted for by the number of draws. \n",
    "\n",
    "Let's look at how the 'home' indicator effects the distribution of wins."
   ]
  },
  {
   "cell_type": "code",
   "execution_count": 14,
   "metadata": {},
   "outputs": [
    {
     "data": {
      "text/plain": [
       "Text(61.0, 0.5, 'Home')"
      ]
     },
     "execution_count": 14,
     "metadata": {},
     "output_type": "execute_result"
    },
    {
     "data": {
      "image/png": "[encoded data removed]",
      "text/plain": [
       "<Figure size 720x432 with 2 Axes>"
      ]
     },
     "metadata": {},
     "output_type": "display_data"
    }
   ],
   "source": [
    "home_win_count = fixtures.pivot_table(index='home', columns='win', values='team_id', aggfunc='count')\n",
    "plt.figure(figsize=(10, 6))\n",
    "plt.title('Heatmap Showing Count of Wins Against Home Game Indicator')\n",
    "sns.heatmap(home_win_count, annot=True, fmt='g', cmap='Blues')\n",
    "plt.xlabel('Win')\n",
    "plt.ylabel('Home')"
   ]
  },
  {
   "cell_type": "markdown",
   "metadata": {},
   "source": [
    "The heatmap shows that winning is more likley when playing at home and losing/drawing is more likley when playing away, therefore this will be a useful feature for prediction.\n",
    "\n",
    "Now let's look if any of the features help to distinguish which team wins, again we will use the relative columns."
   ]
  },
  {
   "cell_type": "code",
   "execution_count": 15,
   "metadata": {},
   "outputs": [],
   "source": [
    "relative_cols = [\n",
    "    'relative_HA_average_scored',\n",
    "    'relative_season_average_scored',\n",
    "    'relative_HA_average_conceded',\n",
    "    'relative_season_average_conceded',\n",
    "    'relative_HA_average_points',\n",
    "    'relative_season_average_points',\n",
    "    'relative_HA_form',\n",
    "    'relative_season_form',\n",
    "    'average_hth_points',\n",
    "    'average_hth_relative_score',\n",
    "    'relative_league_position',\n",
    "]\n",
    "target_col = 'win'"
   ]
  },
  {
   "cell_type": "markdown",
   "metadata": {},
   "source": [
    "Now we can visualise any difference in distribution of the features based on the target."
   ]
  },
  {
   "cell_type": "code",
   "execution_count": 16,
   "metadata": {},
   "outputs": [
    {
     "data": {
      "image/png": "[encoded data removed]",
      "text/plain": [
       "<Figure size 864x1944 with 11 Axes>"
      ]
     },
     "metadata": {},
     "output_type": "display_data"
    }
   ],
   "source": [
    "fig, axes = plt.subplots(\n",
    "    int(np.ceil(len(relative_cols)/2)), 2, \n",
    "    figsize=(12, 5*len(relative_cols)//2))\n",
    "\n",
    "# Remove last axes if odd features\n",
    "if len(relative_cols)%2 != 0:\n",
    "    fig.delaxes(axes[len(relative_cols)//2, 1])\n",
    "\n",
    "# Plot axes\n",
    "for ax, feature in enumerate(relative_cols):\n",
    "    sns.boxplot(x=fixtures['win'], y=fixtures[feature], orient='v', ax=axes[ax//2, ax%2])"
   ]
  },
  {
   "cell_type": "markdown",
   "metadata": {},
   "source": [
    "## Predict relative score\n",
    "\n",
    "Let's once again try predicting the relative score, so that the degree of a win can be included in the model. First, I will seperate a subset of the features I want to use for modelling. The easiest way to do this will be to remove non informative columns and features that were soley useful for creating new features."
   ]
  },
  {
   "cell_type": "code",
   "execution_count": 13,
   "metadata": {},
   "outputs": [],
   "source": [
    "fixtures_2019 = fixtures[fixtures['season'] == 2019].reset_index(drop=True)\n",
    "fixtures = fixtures[fixtures['season'] != 2019].reset_index(drop=True)"
   ]
  },
  {
   "cell_type": "code",
   "execution_count": 14,
   "metadata": {},
   "outputs": [],
   "source": [
    "non_feature_cols = [\n",
    "    'match_id', 'date', 'season', 'team_id', 'team_name', 'opposition_id',\n",
    "    'opposition_name', 'scored', 'conceded', 'league_position', \n",
    "    'opposition_league_position',\n",
    "    'HA_average_scored', 'opposition_HA_average_scored', 'HA_average_conceded',\n",
    "    'opposition_HA_average_conceded', 'HA_average_points',\n",
    "    'opposition_HA_average_points', 'HA_form', 'opposition_HA_form',\n",
    "    'season_average_scored', 'opposition_season_average_scored',\n",
    "    'season_average_conceded', 'opposition_season_average_conceded',\n",
    "    'season_average_points', 'opposition_season_average_points',\n",
    "    'season_form', 'opposition_season_form',\n",
    "    'games_played', 'win'\n",
    "]\n",
    "features_subset = fixtures.drop(non_feature_cols, axis=1)"
   ]
  },
  {
   "cell_type": "markdown",
   "metadata": {},
   "source": [
    "Now we can remove features that have a low correlation with relative score."
   ]
  },
  {
   "cell_type": "code",
   "execution_count": 15,
   "metadata": {},
   "outputs": [],
   "source": [
    "realtive_score_corr = features_subset.corr()['relative_score'].abs()\n",
    "features = relative_score_corr[relative_score_corr > 0.1].index\n",
    "features_subset = features_subset[features]"
   ]
  },
  {
   "cell_type": "markdown",
   "metadata": {},
   "source": [
    "Now we want to remove features that have a high correlation. I will do this using a function that finds features that have a correlation over a threshold and then removes the feature with the lowest correlation."
   ]
  },
  {
   "cell_type": "code",
   "execution_count": 16,
   "metadata": {},
   "outputs": [],
   "source": [
    "def drop_correlated_features(dataframe, target, threshold):\n",
    "    \"\"\"\n",
    "    Recursively finds the most highly correlated features (Pearson correlation)\n",
    "    over the correlation threshold and then removes the feature with the least\n",
    "    correlation (Pearson or Point Biserial if binary target) with the target variable.\n",
    "    \"\"\"\n",
    "    # Compute feature correlations\n",
    "    features = dataframe.drop(target, axis=1)\n",
    "    bool_cols = [col for col in features \n",
    "             if np.isin(features[col].dropna().unique(), [0, 1]).all()]\n",
    "    continuous_features = features.drop(bool_cols, axis=1)\n",
    "    features_corr = continuous_features.corr().abs()\n",
    "    \n",
    "    # Take the upper triangle of feature correlations\n",
    "    features_corr = features_corr.mask(np.tril(np.ones(features_corr.shape, dtype=np.bool_)))\n",
    "    \n",
    "    # Find index of correlations greater than the threshold\n",
    "    correlated_features = zip(*np.where(features_corr > threshold))\n",
    "    \n",
    "    # Create dict, correlated features tuple : correlation\n",
    "    correlated_features = {\n",
    "        (features_corr.columns[i], features_corr.columns[j]): features_corr.iloc[i,j]\n",
    "        for i,j in correlated_features\n",
    "    }\n",
    "    \n",
    "    # If no correlations above threshold, return the dataframe\n",
    "    if not correlated_features:\n",
    "        return dataframe\n",
    "    \n",
    "    # Find most highly correlated features\n",
    "    max_corr_features = max(correlated_features, key=correlated_features.get)\n",
    "    \n",
    "    # Set correlation metric\n",
    "    correlation_metric = pearsonr\n",
    "    if np.isin(dataframe[target].unique(), [0, 1]).all():\n",
    "        correlation_metric = pointbiserialr\n",
    "    \n",
    "    # Find point correlation with target\n",
    "    corrs_with_target = {\n",
    "        feature: abs(correlation_metric(dataframe[target], dataframe[feature])[0])\n",
    "        for feature in max_corr_features}\n",
    "\n",
    "    # Drop feature with the least correlation with target\n",
    "    feature_to_drop = min(corrs_with_target, key=corrs_with_target.get)\n",
    "    new_dataframe = dataframe.drop(feature_to_drop, axis=1)\n",
    "    \n",
    "    return drop_correlated_features(new_dataframe, target, threshold)"
   ]
  },
  {
   "cell_type": "markdown",
   "metadata": {},
   "source": [
    "I will set the threshold at 0.9 and see how the prediction performs."
   ]
  },
  {
   "cell_type": "code",
   "execution_count": 17,
   "metadata": {},
   "outputs": [],
   "source": [
    "features_subset = drop_correlated_features(features_subset, 'relative_score', 0.9)"
   ]
  },
  {
   "cell_type": "markdown",
   "metadata": {},
   "source": [
    "I want to keep the 2019 set of fixtures out of the modelling to simulate my end model on betting data."
   ]
  },
  {
   "cell_type": "code",
   "execution_count": 18,
   "metadata": {},
   "outputs": [],
   "source": [
    "X = features_subset.drop('relative_score', axis=1)\n",
    "y = features_subset['relative_score']\n",
    "X_2019 = fixtures_2019[X.columns]\n",
    "y_2019 = fixtures_2019['relative_score']"
   ]
  },
  {
   "cell_type": "markdown",
   "metadata": {},
   "source": [
    "### Train Models\n",
    "\n",
    "First, we split our data into a training and test set."
   ]
  },
  {
   "cell_type": "code",
   "execution_count": 19,
   "metadata": {},
   "outputs": [],
   "source": [
    "# Train test split\n",
    "X_train, X_test, y_train, y_test = train_test_split(X, y, test_size=0.3, random_state=42)"
   ]
  },
  {
   "cell_type": "markdown",
   "metadata": {},
   "source": [
    "Now I can scale the non binary features features."
   ]
  },
  {
   "cell_type": "code",
   "execution_count": 20,
   "metadata": {},
   "outputs": [],
   "source": [
    "def scale_features(X_train, X_test):\n",
    "    \"\"\"\n",
    "    Fit scaler on X_train continuous features and transform continuous features\n",
    "    in X_train and X_test.\n",
    "    Input: X_train, X_test\n",
    "    Output: X_train, X_test\n",
    "    \"\"\"\n",
    "    bool_cols = [col for col in X_train\n",
    "                 if np.isin(X_train[col].dropna().unique(), [0, 1]).all()]\n",
    "    continuous_cols = [col for col in X_train.columns if col not in bool_cols]\n",
    "    \n",
    "    scaler = StandardScaler()\n",
    "    scaler.fit(X_train[continuous_cols])\n",
    "    \n",
    "    scaled_X_train = pd.DataFrame(\n",
    "        scaler.transform(X_train[continuous_cols]),\n",
    "        columns=continuous_cols, index=X_train.index)\n",
    "    scaled_X_train = pd.concat([scaled_X_train, X_train[bool_cols]], axis=1)\n",
    "    \n",
    "    scaled_X_test = pd.DataFrame(\n",
    "        scaler.transform(X_test[continuous_cols]),\n",
    "        columns=continuous_cols, index=X_test.index)\n",
    "    scaled_X_test = pd.concat([scaled_X_test, X_test[bool_cols]], axis=1)\n",
    "    \n",
    "    return scaled_X_train, scaled_X_test"
   ]
  },
  {
   "cell_type": "code",
   "execution_count": 21,
   "metadata": {},
   "outputs": [],
   "source": [
    "X_train, X_test = scale_features(X_train, X_test)"
   ]
  },
  {
   "cell_type": "code",
   "execution_count": 22,
   "metadata": {},
   "outputs": [
    {
     "name": "stdout",
     "output_type": "stream",
     "text": [
      "MRSE:  1.6711184012432319\n"
     ]
    }
   ],
   "source": [
    "# Train linear regression\n",
    "lin_reg = LinearRegression()\n",
    "MSEs = cross_val_score(lin_reg, X_train, y_train, scoring='neg_mean_squared_error', cv=5)\n",
    "mean_MRSE = np.mean(np.sqrt(abs(MSEs)))\n",
    "print('RMSE: ', mean_MRSE)"
   ]
  },
  {
   "cell_type": "code",
   "execution_count": 23,
   "metadata": {},
   "outputs": [
    {
     "name": "stdout",
     "output_type": "stream",
     "text": [
      "{'alpha': 0.01}\n",
      "Best CV MRSE:  1.6703923167415475\n",
      "\n",
      "\n",
      "Test MRSE:  1.6185578491372965\n",
      "Test MAE:  1.2550757728889024\n"
     ]
    }
   ],
   "source": [
    "# Train lasso\n",
    "lasso = Lasso(max_iter=100000)\n",
    "parameters = {'alpha': [1e-15, 1e-10, 1e-8, 1e-4, 1e-3, 1e-2, 1, 5, 10, 20]}\n",
    "lasso_reg = GridSearchCV(lasso, parameters, scoring='neg_mean_squared_error', cv=5)\n",
    "lasso_reg.fit(X_train, y_train)\n",
    "print(lasso_reg.best_params_)\n",
    "print('Best CV MRSE: ', np.sqrt(abs(lasso_reg.best_score_)))\n",
    "print('\\n')\n",
    "\n",
    "predictions = lasso_reg.best_estimator_.predict(X_test)\n",
    "MSE = mean_squared_error(y_test, predictions)\n",
    "MAE = mean_absolute_error(y_test, predictions)\n",
    "print('Test RMSE: ', np.sqrt(MSE))\n",
    "print('Test MAE: ', MAE)"
   ]
  },
  {
   "cell_type": "code",
   "execution_count": 24,
   "metadata": {},
   "outputs": [
    {
     "name": "stdout",
     "output_type": "stream",
     "text": [
      "{'alpha': 20}\n",
      "Best CV MRSE:  1.6711645246145106\n",
      "\n",
      "\n",
      "Test MRSE:  1.6167418434379195\n",
      "Test MAE:  1.2555251772411302\n"
     ]
    }
   ],
   "source": [
    "# Train ridge\n",
    "ridge = Ridge(max_iter=100000)\n",
    "parameters = {'alpha': [1e-15, 1e-10, 1e-8, 1e-4, 1e-3, 1e-2, 1, 5, 10, 20, 40, 60, 80]}\n",
    "ridge_reg = GridSearchCV(ridge, parameters, scoring='neg_mean_squared_error', cv=5)\n",
    "ridge_reg.fit(X_train, y_train)\n",
    "print(ridge_reg.best_params_)\n",
    "print('Best CV MRSE: ', np.sqrt(abs(ridge_reg.best_score_)))\n",
    "print('\\n')\n",
    "\n",
    "predictions = ridge_reg.best_estimator_.predict(X_test)\n",
    "MSE = mean_squared_error(y_test, predictions)\n",
    "MAE = mean_absolute_error(y_test, predictions)\n",
    "print('Test RMSE: ', np.sqrt(MSE))\n",
    "print('Test MAE: ', MAE)"
   ]
  },
  {
   "cell_type": "code",
   "execution_count": 29,
   "metadata": {},
   "outputs": [
    {
     "name": "stdout",
     "output_type": "stream",
     "text": [
      "{'C': 1, 'epsilon': 1}\n",
      "Best CV MRSE:  1.6714213161461664\n",
      "\n",
      "\n",
      "Test MRSE:  1.6219677581740775\n",
      "Test MAE:  1.2610591309209267\n"
     ]
    }
   ],
   "source": [
    "# Linear SVR\n",
    "linsvr = SVR(kernel='linear')\n",
    "parameters = {\n",
    "    'C': [1e-4, 1e-3, 1e-2, 1, 5, 10, 20],\n",
    "    'epsilon': [1e-8, 1e-4, 1e-3, 1e-2, 1, 5, 10, 20]}\n",
    "linsvr_reg = GridSearchCV(linsvr, parameters, scoring='neg_mean_squared_error', cv=5)\n",
    "linsvr_reg.fit(X_train, y_train)\n",
    "print(linsvr_reg.best_params_)\n",
    "print('Best CV MRSE: ', np.sqrt(abs(linsvr_reg.best_score_)))\n",
    "print('\\n')\n",
    "\n",
    "predictions = linsvr_reg.best_estimator_.predict(X_test)\n",
    "MSE = mean_squared_error(y_test, predictions)\n",
    "MAE = mean_absolute_error(y_test, predictions)\n",
    "print('Test RMSE: ', np.sqrt(MSE))\n",
    "print('Test MAE: ', MAE)"
   ]
  },
  {
   "cell_type": "code",
   "execution_count": 30,
   "metadata": {},
   "outputs": [
    {
     "name": "stdout",
     "output_type": "stream",
     "text": [
      "{'C': 1, 'epsilon': 1}\n",
      "Best CV MRSE:  1.693097449502652\n",
      "\n",
      "\n",
      "Test MRSE:  1.6368194080647671\n",
      "Test MAE:  1.2690757148067013\n"
     ]
    }
   ],
   "source": [
    "# RBF SVR\n",
    "rbfsvr = SVR(kernel='rbf',)\n",
    "parameters = {\n",
    "    'C': [1e-4, 1e-3, 1e-2, 1, 5, 10, 20],\n",
    "    'epsilon': [1e-8, 1e-4, 1e-3, 1e-2, 1, 5, 10, 20]}\n",
    "rbfsvr_reg = GridSearchCV(rbfsvr, parameters, scoring='neg_mean_squared_error', cv=5)\n",
    "rbfsvr_reg.fit(X_train, y_train)\n",
    "print(rbfsvr_reg.best_params_)\n",
    "print('Best CV MRSE: ', np.sqrt(abs(rbfsvr_reg.best_score_)))\n",
    "print('\\n')\n",
    "\n",
    "predictions = rbfsvr_reg.best_estimator_.predict(X_test)\n",
    "MSE = mean_squared_error(y_test, predictions)\n",
    "MAE = mean_absolute_error(y_test, predictions)\n",
    "print('Test RMSE: ', np.sqrt(MSE))\n",
    "print('Test MAE: ', MAE)"
   ]
  },
  {
   "cell_type": "markdown",
   "metadata": {},
   "source": [
    "There is marginal difference between the different regression algorithms but I will use ridge regression to predict the score of each match. Now we want to predict the relative score of all of our matches so we can use it as a feature when predicting if a team will win."
   ]
  },
  {
   "cell_type": "code",
   "execution_count": 25,
   "metadata": {},
   "outputs": [],
   "source": [
    "_, X = scale_features(X_train, X)\n",
    "_, X_2019 = scale_features(X_train, X_2019)\n",
    "\n",
    "predicted_scores = pd.Series(\n",
    "    ridge_reg.best_estimator_.predict(X), name='predicted_relative_score')\n",
    "predicted_scores_2019 = pd.Series(\n",
    "    ridge_reg.best_estimator_.predict(X_2019), name='predicted_relative_score')\n",
    "\n",
    "features = pd.concat([\n",
    "    fixtures.drop(non_feature_cols, axis=1), predicted_scores, fixtures['win']], axis=1)\n",
    "fixtures_2019 = pd.concat([fixtures_2019, predicted_scores_2019], axis=1)\n",
    "\n",
    "features = features.drop('relative_score', axis=1)"
   ]
  },
  {
   "cell_type": "markdown",
   "metadata": {},
   "source": [
    "## Win classifier\n",
    "\n",
    "Again I want to drop highly correlated variables, this time the target is binary so the correlation metric used between continuous features and binary target will be Point Biserial correlation."
   ]
  },
  {
   "cell_type": "code",
   "execution_count": 26,
   "metadata": {},
   "outputs": [],
   "source": [
    "features = drop_correlated_features(features, 'win', 0.9)"
   ]
  },
  {
   "cell_type": "markdown",
   "metadata": {},
   "source": [
    "Now I need to split my data into training and testing sets."
   ]
  },
  {
   "cell_type": "code",
   "execution_count": 27,
   "metadata": {},
   "outputs": [],
   "source": [
    "# Train test split\n",
    "X = features.drop('win', axis=1)\n",
    "y = features['win']\n",
    "X_train, X_test, y_train, y_test = train_test_split(\n",
    "    X, y, test_size=0.3, random_state=42, stratify=y)"
   ]
  },
  {
   "cell_type": "markdown",
   "metadata": {},
   "source": [
    "Now I will scale the features."
   ]
  },
  {
   "cell_type": "code",
   "execution_count": 28,
   "metadata": {},
   "outputs": [],
   "source": [
    "X_train, X_test = scale_features(X_train, X_test)"
   ]
  },
  {
   "cell_type": "markdown",
   "metadata": {},
   "source": [
    "I want to train my model so that it has as high as possible precision but also classifies as many wins as possible. I'm going to create a scorer that places importance on both precision and recall but more so on precision."
   ]
  },
  {
   "cell_type": "code",
   "execution_count": 29,
   "metadata": {},
   "outputs": [],
   "source": [
    "beta = 0.5\n",
    "fbeta = make_scorer(fbeta_score, beta=beta, average='binary', pos_label=1)"
   ]
  },
  {
   "cell_type": "markdown",
   "metadata": {},
   "source": [
    "Now I will define a function to print the evaluation metrics I will use to compare the models."
   ]
  },
  {
   "cell_type": "code",
   "execution_count": 40,
   "metadata": {},
   "outputs": [],
   "source": [
    "def print_model_eval(model, X_test, y_test, beta):\n",
    "    \"\"\"\n",
    "    This function prints the weighted F1 score, confusion matrix and classification\n",
    "    report.\n",
    "    Input:\n",
    "        - Model: Trained machine learning model.\n",
    "        - X_test: Test features.\n",
    "        - y_test: Test target.\n",
    "        - beta: Beta argument for fbeta_score.\n",
    "    \"\"\"\n",
    "    predictions = model.predict(X_test)\n",
    "    print('Weighted F1 Score: ', fbeta_score(y_test, predictions, beta))\n",
    "    print('\\n')\n",
    "    print('Confusion Matrix:')\n",
    "    print(confusion_matrix(y_test, predictions))\n",
    "    print('\\n')\n",
    "    print(classification_report(y_test, predictions))"
   ]
  },
  {
   "cell_type": "markdown",
   "metadata": {},
   "source": [
    "### Train models"
   ]
  },
  {
   "cell_type": "code",
   "execution_count": 42,
   "metadata": {},
   "outputs": [
    {
     "name": "stdout",
     "output_type": "stream",
     "text": [
      "Best Params:  {'C': 0.01}\n",
      "Weighted F1 Score:  0.5756052992233895\n",
      "\n",
      "\n",
      "Confusion Matrix:\n",
      "[[844 143]\n",
      " [357 252]]\n",
      "\n",
      "\n",
      "              precision    recall  f1-score   support\n",
      "\n",
      "         0.0       0.70      0.86      0.77       987\n",
      "         1.0       0.64      0.41      0.50       609\n",
      "\n",
      "    accuracy                           0.69      1596\n",
      "   macro avg       0.67      0.63      0.64      1596\n",
      "weighted avg       0.68      0.69      0.67      1596\n",
      "\n"
     ]
    }
   ],
   "source": [
    "# Logistic regression\n",
    "log = LogisticRegression(max_iter=10000)\n",
    "parameters = {'C': [1e-15, 1e-10, 1e-8, 1e-4, 1e-3, 1e-2, 1, 5, 10, 20]}\n",
    "log_grid = GridSearchCV(log, parameters, scoring=fbeta, cv=5)\n",
    "log_grid.fit(X_train, y_train)\n",
    "\n",
    "print('Best Params: ', log_grid.best_params_)\n",
    "print_model_eval(log_grid.best_estimator_, X_test, y_test, beta)"
   ]
  },
  {
   "cell_type": "code",
   "execution_count": 174,
   "metadata": {},
   "outputs": [
    {
     "name": "stdout",
     "output_type": "stream",
     "text": [
      "Best Params:  {'C': 1}\n",
      "Weighted F1 Score:  0.5404671374253123\n",
      "\n",
      "\n",
      "Confusion Matrix:\n",
      "[[878 109]\n",
      " [410 199]]\n",
      "\n",
      "\n",
      "              precision    recall  f1-score   support\n",
      "\n",
      "         0.0       0.68      0.89      0.77       987\n",
      "         1.0       0.65      0.33      0.43       609\n",
      "\n",
      "    accuracy                           0.67      1596\n",
      "   macro avg       0.66      0.61      0.60      1596\n",
      "weighted avg       0.67      0.67      0.64      1596\n",
      "\n"
     ]
    }
   ],
   "source": [
    "# Linear SVC\n",
    "linear_svc = SVC(kernel='linear')\n",
    "parameters = {'C': [1e-3, 1e-2, 0.1, 1, 5, 10, 100]}\n",
    "linsvc_grid = GridSearchCV(linear_svc, parameters, scoring=fbeta, cv=5)\n",
    "linsvc_grid.fit(X_train, y_train)\n",
    "\n",
    "print('Best Params: ', linsvc_grid.best_params_)\n",
    "print_model_eval(linsvc_grid.best_estimator_, X_test, y_test, beta)"
   ]
  },
  {
   "cell_type": "code",
   "execution_count": 175,
   "metadata": {},
   "outputs": [
    {
     "name": "stdout",
     "output_type": "stream",
     "text": [
      "Best Params:  {'n_neighbors': 15}\n",
      "Weighted F1 Score:  0.5325443786982249\n",
      "\n",
      "\n",
      "Confusion Matrix:\n",
      "[[824 163]\n",
      " [375 234]]\n",
      "\n",
      "\n",
      "              precision    recall  f1-score   support\n",
      "\n",
      "         0.0       0.69      0.83      0.75       987\n",
      "         1.0       0.59      0.38      0.47       609\n",
      "\n",
      "    accuracy                           0.66      1596\n",
      "   macro avg       0.64      0.61      0.61      1596\n",
      "weighted avg       0.65      0.66      0.64      1596\n",
      "\n"
     ]
    }
   ],
   "source": [
    "# K neighbours\n",
    "neighbours = KNeighborsClassifier()\n",
    "parameters = {'n_neighbors': np.linspace(5,15,num=5,dtype='int')}\n",
    "neighbours_grid = GridSearchCV(neighbours, parameters, scoring=fbeta, cv=5)\n",
    "neighbours_grid.fit(X_train, y_train)\n",
    "\n",
    "print('Best Params: ', neighbours_grid.best_params_)\n",
    "print_model_eval(neighbours_grid.best_estimator_, X_test, y_test, beta)"
   ]
  },
  {
   "cell_type": "code",
   "execution_count": 30,
   "metadata": {},
   "outputs": [
    {
     "name": "stdout",
     "output_type": "stream",
     "text": [
      "Best Params:  {'C': 1, 'gamma': 0.1}\n",
      "Weighted F1 Score:  0.5325593134780414\n",
      "\n",
      "\n",
      "Confusion Matrix:\n",
      "[[855 132]\n",
      " [398 211]]\n",
      "\n",
      "\n",
      "              precision    recall  f1-score   support\n",
      "\n",
      "         0.0       0.68      0.87      0.76       987\n",
      "         1.0       0.62      0.35      0.44       609\n",
      "\n",
      "    accuracy                           0.67      1596\n",
      "   macro avg       0.65      0.61      0.60      1596\n",
      "weighted avg       0.66      0.67      0.64      1596\n",
      "\n"
     ]
    }
   ],
   "source": [
    "# RBF SVC\n",
    "rbf_svc = SVC(kernel='rbf')\n",
    "parameters = {'gamma': [0.1, 1, 10, 100], 'C': [0.1, 1, 10, 100, 1000]}\n",
    "rbfsvc_grid = GridSearchCV(rbf_svc, parameters, scoring=fbeta, cv=5)\n",
    "rbfsvc_grid.fit(X_train, y_train)\n",
    "\n",
    "print('Best Params: ', rbfsvc_grid.best_params_)\n",
    "print_model_eval(rbfsvc_grid.best_estimator_, X_test, y_test, beta)"
   ]
  },
  {
   "cell_type": "code",
   "execution_count": 43,
   "metadata": {},
   "outputs": [
    {
     "name": "stdout",
     "output_type": "stream",
     "text": [
      "Best Params:  {'n_estimators': 100, 'min_samples_split': 10, 'max_features': 10, 'max_depth': 5}\n",
      "Weighted F1 Score:  0.5623529411764706\n",
      "\n",
      "\n",
      "Confusion Matrix:\n",
      "[[847 140]\n",
      " [370 239]]\n",
      "\n",
      "\n",
      "              precision    recall  f1-score   support\n",
      "\n",
      "         0.0       0.70      0.86      0.77       987\n",
      "         1.0       0.63      0.39      0.48       609\n",
      "\n",
      "    accuracy                           0.68      1596\n",
      "   macro avg       0.66      0.63      0.63      1596\n",
      "weighted avg       0.67      0.68      0.66      1596\n",
      "\n"
     ]
    }
   ],
   "source": [
    "# Random Forest\n",
    "forest = RandomForestClassifier()\n",
    "parameters = {\n",
    "    'min_samples_split': [2, 5, 10], \n",
    "    'n_estimators' : [100, 300],\n",
    "    'max_depth': [5, 25, None],\n",
    "    'max_features': [3, 10, 25, 'auto']\n",
    "}\n",
    "forest_grid = RandomizedSearchCV(forest, parameters, scoring=fbeta, cv=5, n_iter=40)\n",
    "forest_grid.fit(X_train, y_train)\n",
    "\n",
    "print('Best Params: ', forest_grid.best_params_)\n",
    "print_model_eval(forest_grid.best_estimator_, X_test, y_test, beta)"
   ]
  },
  {
   "cell_type": "code",
   "execution_count": 44,
   "metadata": {},
   "outputs": [
    {
     "name": "stdout",
     "output_type": "stream",
     "text": [
      "Best Params:  {'min_child_weight': 3, 'max_depth': 3, 'gamma': 0.2, 'eta': 0.1, 'colsample_bytree': 0.3}\n",
      "Weighted F1 Score:  0.5623582766439909\n",
      "\n",
      "\n",
      "Confusion Matrix:\n",
      "[[836 151]\n",
      " [361 248]]\n",
      "\n",
      "\n",
      "              precision    recall  f1-score   support\n",
      "\n",
      "         0.0       0.70      0.85      0.77       987\n",
      "         1.0       0.62      0.41      0.49       609\n",
      "\n",
      "    accuracy                           0.68      1596\n",
      "   macro avg       0.66      0.63      0.63      1596\n",
      "weighted avg       0.67      0.68      0.66      1596\n",
      "\n"
     ]
    }
   ],
   "source": [
    "# Gradient Boosted Tree\n",
    "xgboost = XGBClassifier()\n",
    "parameters = {\n",
    "    'eta': [0.05, 0.10, 0.15, 0.20, 0.25, 0.30],\n",
    "    'max_depth': [3, 4, 5, 6, 8, 10, 12, 15],\n",
    "    'min_child_weight': [1, 3, 5, 7],\n",
    "    'gamma': [0.0, 0.1, 0.2, 0.3, 0.4],\n",
    "    'colsample_bytree': [0.3, 0.4, 0.5, 0.7]\n",
    "}\n",
    "xgboost_grid = RandomizedSearchCV(xgboost, parameters, scoring=fbeta, cv=5, n_iter=40, n_jobs=-1)\n",
    "xgboost_grid.fit(X_train, y_train)\n",
    "\n",
    "print('Best Params: ', xgboost_grid.best_params_)\n",
    "print_model_eval(xgboost_grid.best_estimator_, X_test, y_test, beta)"
   ]
  },
  {
   "cell_type": "markdown",
   "metadata": {},
   "source": [
    "The logistic regression model has the best fbeta score on the test set. I will use this as the best model for the betting simulation."
   ]
  },
  {
   "cell_type": "code",
   "execution_count": 45,
   "metadata": {},
   "outputs": [],
   "source": [
    "best_model = log_grid.best_estimator_"
   ]
  },
  {
   "cell_type": "markdown",
   "metadata": {},
   "source": [
    "## Betting Simulation"
   ]
  },
  {
   "cell_type": "code",
   "execution_count": 46,
   "metadata": {},
   "outputs": [],
   "source": [
    "odds_data_path = os.path.join(data_path, 'odds', 'prem_2019_odds.csv')\n",
    "odds = pd.read_csv(odds_data_path, parse_dates=['Date'])\n",
    "odds = odds[['Date', 'HomeTeam', 'AwayTeam', 'MaxH', 'MaxA']]"
   ]
  },
  {
   "cell_type": "markdown",
   "metadata": {},
   "source": [
    "There are a few teams in the odds data set that have different names to the fixtures data set, so those need to be changed first."
   ]
  },
  {
   "cell_type": "code",
   "execution_count": 47,
   "metadata": {},
   "outputs": [],
   "source": [
    "team_name_map = {\n",
    "    'Man United': \"Manchester United\",\n",
    "    'Man City': \"Manchester City\",\n",
    "    'Sheffield United': \"Sheffield Utd\",\n",
    "}\n",
    "odds['HomeTeam'] = odds['HomeTeam'].apply(lambda x: team_name_map.get(x, x))\n",
    "odds['AwayTeam'] = odds['AwayTeam'].apply(lambda x: team_name_map.get(x, x))"
   ]
  },
  {
   "cell_type": "markdown",
   "metadata": {},
   "source": [
    "Now I can add the betting odds for winning to the fixtures."
   ]
  },
  {
   "cell_type": "code",
   "execution_count": 48,
   "metadata": {},
   "outputs": [],
   "source": [
    "def get_odds(odds, team, opposition, home):\n",
    "    \"\"\"Returns the best betting odds for the team winning the match.\"\"\"\n",
    "    home_team = team if home else opposition\n",
    "    away_team = opposition if home else team\n",
    "    \n",
    "    home_team = odds['HomeTeam'] == home_team\n",
    "    away_team = odds['AwayTeam'] == away_team\n",
    "    match = odds.loc[home_team & away_team]\n",
    "    match = match.iloc[0]\n",
    "    \n",
    "    odds = match['MaxH'] if home else match['MaxA']\n",
    "    return odds"
   ]
  },
  {
   "cell_type": "code",
   "execution_count": 49,
   "metadata": {},
   "outputs": [],
   "source": [
    "fixtures_2019['odds'] = fixtures_2019.apply(\n",
    "    lambda x: get_odds(odds, x['team_name'], x['opposition_name'], x['home']), axis=1)"
   ]
  },
  {
   "cell_type": "markdown",
   "metadata": {},
   "source": [
    "Now I will use my model to predict if the team will win the match."
   ]
  },
  {
   "cell_type": "code",
   "execution_count": 50,
   "metadata": {},
   "outputs": [],
   "source": [
    "_, X_2019 = scale_features(X_train, fixtures_2019[X_train.columns])"
   ]
  },
  {
   "cell_type": "code",
   "execution_count": 51,
   "metadata": {},
   "outputs": [],
   "source": [
    "predictions_2019 = pd.Series(best_model.predict(X_2019), name='win_prediction')\n",
    "fixtures_2019 = pd.concat([fixtures_2019, predictions_2019], axis=1)"
   ]
  },
  {
   "cell_type": "markdown",
   "metadata": {},
   "source": [
    "Now that I have the predictions and the odds I can choose which matches to bet on."
   ]
  },
  {
   "cell_type": "code",
   "execution_count": 52,
   "metadata": {},
   "outputs": [
    {
     "name": "stdout",
     "output_type": "stream",
     "text": [
      "Bets made:  167\n",
      "Return:  160.28000000000003\n",
      "Percent return:  0.9597604790419163\n"
     ]
    }
   ],
   "source": [
    "bet_made = fixtures_2019[(fixtures_2019['win_prediction'] == 1)]\n",
    "bet_return = (bet_made['win'] * bet_made['odds']).sum()\n",
    "print('Bets made: ', len(bet_made))\n",
    "print('Return: ', bet_return)\n",
    "print('Percent return: ', bet_return/len(bet_made))"
   ]
  },
  {
   "cell_type": "markdown",
   "metadata": {},
   "source": [
    "The model has not given a positive return."
   ]
  },
  {
   "cell_type": "code",
   "execution_count": 55,
   "metadata": {},
   "outputs": [
    {
     "name": "stdout",
     "output_type": "stream",
     "text": [
      "Loss: 4.02%\n"
     ]
    }
   ],
   "source": [
    "print(f'Loss: {100 * (1 - bet_return/len(bet_made)):.2f}%')"
   ]
  },
  {
   "cell_type": "markdown",
   "metadata": {},
   "source": [
    "Unfortunately, the model gives a loss of 4.02%. This, although disappointing, is not entirely surprising as the betting companies are very good at giving odds for games so that they make profit.\n",
    "\n",
    "#### Improvements\n",
    "\n",
    "To improve the model it would be to perform a more in depth analysis of the games played. Using information about individual players, injuries, possesion etc. would give a interesting analysis of how different teams perform."
   ]
  }
 ],
 "metadata": {
  "kernelspec": {
   "display_name": "football_predictions",
   "language": "python",
   "name": "football_predictions"
  },
  "language_info": {
   "codemirror_mode": {
    "name": "ipython",
    "version": 3
   },
   "file_extension": ".py",
   "mimetype": "text/x-python",
   "name": "python",
   "nbconvert_exporter": "python",
   "pygments_lexer": "ipython3",
   "version": "3.8.1"
  }
 },
 "nbformat": 4,
 "nbformat_minor": 2
}
